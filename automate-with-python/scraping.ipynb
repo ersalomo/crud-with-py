{
 "cells": [
  {
   "cell_type": "markdown",
   "metadata": {},
   "source": [
    "the first one that we have to understand is tag html\n",
    "in order to be able to use correctly web scraping"
   ]
  },
  {
   "cell_type": "code",
   "execution_count": null,
   "metadata": {},
   "outputs": [],
   "source": [
    "\"XPath Expression\"\n",
    "# //tagName\n",
    "# select h1 => //h1\n",
    "\"\"\"\n",
    "and or allowed\n",
    "//div[@class = \"btn\"] or div[@class = \"\"]\n",
    "\"\"\" \n",
    "# #\n",
    "# / => //artvile/p"
   ]
  }
 ],
 "metadata": {
  "kernelspec": {
   "display_name": "Python 3",
   "language": "python",
   "name": "python3"
  },
  "language_info": {
   "name": "python",
   "version": "3.11.0 (main, Oct 24 2022, 18:26:48) [MSC v.1933 64 bit (AMD64)]"
  },
  "orig_nbformat": 4,
  "vscode": {
   "interpreter": {
    "hash": "7d093f443aad8c0d3bee13d86753046d4508f29856a325e38a7e49c35975e629"
   }
  }
 },
 "nbformat": 4,
 "nbformat_minor": 2
}
