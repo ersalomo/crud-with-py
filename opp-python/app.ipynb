{
 "cells": [
  {
   "cell_type": "code",
   "execution_count": 4,
   "metadata": {},
   "outputs": [
    {
     "name": "stdout",
     "output_type": "stream",
     "text": [
      "Ersalomo Sitorus\n"
     ]
    }
   ],
   "source": [
    "from abc import ABC, abstractmethod\n",
    "from turtle import xcor\n",
    "\n",
    "class Human(ABC):\n",
    "    def __init__(self, nama, sex):\n",
    "        self.nama = nama\n",
    "        self.sex = sex\n",
    "        self.info1 = lambda x : x.nama +\" \"+ x.sex\n",
    "        self.info2 = lambda self : self.nama\n",
    "    \n",
    "    @abstractmethod\n",
    "    def display(self):\n",
    "        pass\n",
    "\n",
    "class Student(Human):\n",
    "    \n",
    "    def display(self):\n",
    "        pass\n",
    "\n",
    "student = Student(\"Ersalomo\",'Sitorus')\n",
    "print(student.info1(student))"
   ]
  },
  {
   "cell_type": "code",
   "execution_count": 1,
   "metadata": {},
   "outputs": [
    {
     "name": "stdout",
     "output_type": "stream",
     "text": [
      "['e', 'r', 's', 'a', 'l', 'o', 'm', 'o']\n",
      "__main__\n",
      "__main__\n"
     ]
    }
   ],
   "source": [
    "mahasiswa = list(map(str,input(\"masukkan nama :\")))\n",
    "\n",
    "print(mahasiswa)\n",
    "# 5:16\n",
    "\n",
    "print(__name__)\n",
    "print(__name__)"
   ]
  },
  {
   "cell_type": "code",
   "execution_count": null,
   "metadata": {},
   "outputs": [],
   "source": [
    "class Difference:\n",
    "    def __init__(self, a):\n",
    "        self.__elements = a\n",
    "\n",
    "\t# Add your code here\n",
    "    def computeDifference(self):\n",
    "        x = 101\n",
    "        y = 0\n",
    "        \n",
    "        for ele in self.__elements:\n",
    "            if ele < x:\n",
    "                x = ele\n",
    "            if ele > y:\n",
    "                y = ele\n",
    "        self.maximumDifference = y - x\n",
    "        \n",
    "# End of Difference class\n",
    "\n",
    "_ = input()\n",
    "a = [int(e) for e in input().split(' ')]\n",
    "\n",
    "d = Difference(a)\n",
    "d.computeDifference()\n",
    "\n",
    "print(d.maximumDifference)"
   ]
  },
  {
   "cell_type": "code",
   "execution_count": 8,
   "metadata": {},
   "outputs": [
    {
     "name": "stdout",
     "output_type": "stream",
     "text": [
      "[70, 80, 90]\n",
      "['Failed', 'Failed', 'Failed', 'Failed', 'Failed', 'Failed', 'Failed', 'Failed', 'Success', 'Success']\n"
     ]
    }
   ],
   "source": [
    "from sre_constants import SUCCESS\n",
    "\n",
    "\n",
    "grade = [i for i in range(0,100,10)]\n",
    "\n",
    "SUCCESS = [ 'Success' if i >= 75 else 'Failed' for i in grade ]\n",
    "success = [i for i in grade if i >= 65 ]\n",
    "print(success)\n",
    "print(SUCCESS)"
   ]
  },
  {
   "cell_type": "code",
   "execution_count": 44,
   "metadata": {},
   "outputs": [
    {
     "data": {
      "text/plain": [
       "dict_values(['ersalomo'])"
      ]
     },
     "execution_count": 44,
     "metadata": {},
     "output_type": "execute_result"
    }
   ],
   "source": [
    "cuaca = {\n",
    "    'Jakarta': 34,\n",
    "    'Medan'  : 40,\n",
    "    'Ambon'  : 25,\n",
    "    'Bali'   : 29,\n",
    "    'Padang' : 30,\n",
    "    'Bandung': 27,\n",
    "    'Texas'  : 20,\n",
    "    'Moskov' : [\n",
    "        {\n",
    "            \"nama\" :\"ersalomo\"\n",
    "        },{\n",
    "            \"nama\" :\"pinahan\"\n",
    "        }\n",
    "    ]\n",
    "}\n",
    "\n",
    "# kota_panas = {key:value for (key, value) in cuaca.items() if value >= 30}\n",
    "# kota_panas = { key: 'Panas' if value >30 else 'dingin' for (key, value) in cuaca.items()}\n",
    "\n",
    "moskov = cuaca.get('Moskov','fuck')\n",
    "moskov[0].values()\n",
    "\n"
   ]
  },
  {
   "cell_type": "code",
   "execution_count": 26,
   "metadata": {},
   "outputs": [
    {
     "name": "stdout",
     "output_type": "stream",
     "text": [
      "('ersalomo', 'ersa**lo**mo', 'ersalomo')\n",
      "('Michael', 'M**ic***hael', 'Michael')\n",
      "('Pinahan', 'Pi***na**h***an', 'Pinahan')\n",
      "('Asuu', '**su*****u', 'Asuu')\n"
     ]
    }
   ],
   "source": [
    "# ZIP\n",
    "\n",
    "nama     = ('ersalomo','Michael','Pinahan','Asuu')\n",
    "password = ('ersa**lo**mo','M**ic***hael','Pi***na**h***an','**su*****u')\n",
    "email    = ('ersalomo','Michael','Pinahan','Asuu')\n",
    "\n",
    "data = list(zip(nama,password,email))\n",
    "\n",
    "for item in data:\n",
    "    print(item)"
   ]
  },
  {
   "cell_type": "code",
   "execution_count": 11,
   "metadata": {},
   "outputs": [
    {
     "name": "stdout",
     "output_type": "stream",
     "text": [
      "as\n"
     ]
    }
   ],
   "source": [
    "import math\n",
    "prime = True\n",
    "n = 2\n",
    "for i in range(2, int(math.sqrt(n))):\n",
    "    print('ss')\n",
    "\n",
    "for i in  range(2,3):\n",
    "    print('as')\n",
    "\n"
   ]
  },
  {
   "cell_type": "code",
   "execution_count": 37,
   "metadata": {},
   "outputs": [
    {
     "name": "stdout",
     "output_type": "stream",
     "text": [
      "4\n",
      "3\n",
      "2\n",
      "1\n",
      "2\n"
     ]
    }
   ],
   "source": [
    "lima = [l for l in range(0,101,1) if l % 5 ==0]\n",
    "lima\n",
    "# lima.index(100)\n",
    "# print(28%5 == 3)\n",
    "print(79%5) #4 #80-79 = 1   < 3 == true\n",
    "print(78%5) #3 #80-78 = 2\n",
    "print(77%5) #2 80-77 = 3  (2 dan 1)\n",
    "print(76%5) #1 80-76 = 4  \n",
    "print(67%5)\n",
    "\n"
   ]
  },
  {
   "cell_type": "code",
   "execution_count": 1,
   "metadata": {},
   "outputs": [
    {
     "name": "stdout",
     "output_type": "stream",
     "text": [
      "Testing  : 73 67 38 33 39 40 41 42 43 44 45 46 47 48 49 50 91 92 93 94 95 96 97 98 99 100\n",
      "Output   : 75 67 40 33 40 40 41 42 45 45 45 46 47 50 50 50 91 92 95 95 95 96 97 100 100 100\n",
      "Expecteed: 75 67 40 33 40 40 41 42 45 45 45 46 47 50 50 50 91 92 95 95 95 96 97 100 100 100\n",
      "True\n",
      "Testing  : 73 67 38 33 39 40 41 42 43 44 45 46 47 48 49 50 91 92 93 94 95 96 97 98 99 100\n",
      "Output   : 75 67 40 33 40 40 41 42 45 45 45 46 47 50 50 50 91 92 95 95 95 96 97 100 100 100\n",
      "Expecteed: 75 67 40 33 40 40 41 42 45 45 45 46 47 50 50 50 91 92 95 95 95 96 97 100 100 100\n",
      "True\n",
      "[33, 38, 39, 40, 41, 42, 43, 44, 45, 46, 47, 48, 49, 50, 67, 73, 91, 92, 93, 94, 95, 96, 97, 98, 99, 100]\n",
      "True\n"
     ]
    }
   ],
   "source": [
    "import math\n",
    "add_array       = [91, 92, 93, 94,  95, 96, 97, 98,  99, 100]\n",
    "add_array_hasil = [91, 92, 95, 95, 95, 96, 97,100, 100, 100 ]\n",
    "test:int   = [73, 67, 38, 33, 39, 40, 41, 42, 43, 44, 45, 46, 47, 48, 49, 50,*add_array]\n",
    "hasil:int =  [75, 67, 40, 33, 40, 40, 41, 42, 45, 45, 45, 46, 47, 50, 50, 50,*add_array_hasil]\n",
    "def gradingStudents(grades):\n",
    "    results = []\n",
    "    for grade in grades:\n",
    "        if(grade < 38): results.append(grade)\n",
    "\n",
    "        else:\n",
    "            if(grade % 5 == 0 and grade != 100): results.append(grade)\n",
    "            if(grade == 100 and grade%5==0): results.append(grade)\n",
    "            num = math.ceil(grade / 5 ) * 5\n",
    "            if(grade % 5 == 4): results.append(grade+1) # 79 % 5 = 4\n",
    "            if(grade % 5 == 3): results.append(grade+2) # 68 % 5 = 3\n",
    "            if(num - grade > 2): results.append(grade) # 67 % 5 = 2\n",
    "\n",
    "    return results\n",
    "\n",
    "results =gradingStudents(test)\n",
    "print(\"Testing  :\",*test)\n",
    "print(\"Output   :\",*results,)\n",
    "print(\"Expecteed:\",*hasil,)\n",
    "print(math.fsum(results) == math.fsum(hasil))\n",
    "\n",
    "def gradingStudents(grades):\n",
    "    # Write your code here\n",
    "    r = []\n",
    "    for g in grades:\n",
    "        aR = g\n",
    "        nm = (g // 5 +1) * 5\n",
    "        if g >=38 and nm-g < 3:\n",
    "            aR = nm\n",
    "        r.append(aR)\n",
    "    return r\n",
    "\n",
    "results =gradingStudents(test)\n",
    "print(\"Testing  :\",*test)\n",
    "print(\"Output   :\",*results,)\n",
    "print(\"Expecteed:\",*hasil,)\n",
    "print(math.fsum(results) == math.fsum(hasil))\n",
    "\n",
    "\n",
    "def burbleSort(arr):\n",
    "    # hasil = []\n",
    "    for i in range(len(arr)-1):\n",
    "        for j in range(0,i):\n",
    "            if(arr[j] > arr[j+1]):\n",
    "                arr[j],arr[j+1] = arr[j+1],arr[j]\n",
    "    return arr\n",
    "\n",
    "\n",
    "\n",
    "def testBurbleSort(arr)->bool:\n",
    "    isSort = True\n",
    "    for i in range(len(arr)-1):\n",
    "        for j in range(0,i):\n",
    "            if(arr[j] > arr[j+1]):\n",
    "                isSort = False\n",
    "                break\n",
    "    return isSort\n",
    "\n",
    "hasil  = burbleSort(test)\n",
    "isSort = testBurbleSort(hasil)\n",
    "print(hasil)\n",
    "print(isSort)"
   ]
  },
  {
   "cell_type": "code",
   "execution_count": 66,
   "metadata": {},
   "outputs": [
    {
     "name": "stdout",
     "output_type": "stream",
     "text": [
      "1 + 3 = 4\n",
      "1 + 2 = 3\n",
      "1 + 6 = 7\n",
      "1 + 1 = 2\n",
      "1 + 2 = 3\n",
      "\n",
      "\n",
      "3 + 2 = 5\n",
      "3 + 6 = 9\n",
      "3 + 1 = 4\n",
      "3 + 2 = 5\n",
      "\n",
      "\n",
      "2 + 6 = 8\n",
      "2 + 1 = 3\n",
      "2 + 2 = 4\n",
      "\n",
      "\n",
      "6 + 1 = 7\n",
      "6 + 2 = 8\n",
      "\n",
      "\n",
      "1 + 2 = 3\n",
      "\n",
      "\n",
      "5\n"
     ]
    }
   ],
   "source": [
    "# [6, 3, [1, 3, 2, 6, 1, 2]]\n",
    "\n",
    "def divisibleSumPairs(n, k, ar)->int:\n",
    "    hasil = []\n",
    "    # Write your code here\n",
    "    for i in range(len(ar)-1):# 4\n",
    "        for j in range(i,len(ar)-1):\n",
    "            print(f'{ar[i]} + {ar[j+1]} = {ar[i] + ar[j+1]}')\n",
    "            if((ar[i] + ar[j+1]) % k == 0):\n",
    "                hasil.append([i,j])\n",
    "        print('\\n')\n",
    "    return len(hasil)\n",
    "\n",
    "print(divisibleSumPairs(6,3,[1, 3, 2, 6, 1, 2])) # 5"
   ]
  }
 ],
 "metadata": {
  "kernelspec": {
   "display_name": "Python 3",
   "language": "python",
   "name": "python3"
  },
  "language_info": {
   "codemirror_mode": {
    "name": "ipython",
    "version": 3
   },
   "file_extension": ".py",
   "mimetype": "text/x-python",
   "name": "python",
   "nbconvert_exporter": "python",
   "pygments_lexer": "ipython3",
   "version": "3.11.0"
  },
  "orig_nbformat": 4,
  "vscode": {
   "interpreter": {
    "hash": "7d093f443aad8c0d3bee13d86753046d4508f29856a325e38a7e49c35975e629"
   }
  }
 },
 "nbformat": 4,
 "nbformat_minor": 2
}
