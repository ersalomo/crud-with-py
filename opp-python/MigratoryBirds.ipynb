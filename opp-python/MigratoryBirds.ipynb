{
 "cells": [
  {
   "cell_type": "code",
   "execution_count": null,
   "metadata": {},
   "outputs": [
    {
     "ename": "",
     "evalue": "",
     "output_type": "error",
     "traceback": [
      "\u001b[1;31mRunning cells with 'c:\\Users\\acer\\AppData\\Local\\Microsoft\\WindowsApps\\python3.11.exe' requires ipykernel package.\n",
      "\u001b[1;31mRun the following command to install 'ipykernel' into the Python environment. \n",
      "\u001b[1;31mCommand: 'c:/Users/acer/AppData/Local/Microsoft/WindowsApps/python3.11.exe -m pip install ipykernel -U --user --force-reinstall'"
     ]
    }
   ],
   "source": [
    "birds = [1, 2, 3, 4, 5, 4, 3, 2,1, 3, 4,1]\n",
    "id_birds = set(birds)\n",
    "birdType = {}\n",
    "\n",
    "for id_bird in id_birds:\n",
    "    birdType[str(id_bird)] = list()\n",
    "\n",
    "for bird in birds:\n",
    "    birdType[str(bird)].append(bird)\n",
    "\n",
    "result = []\n",
    "max_len = 0\n",
    "for key,value in birdType.items():\n",
    "    if(len(value) > max_len):\n",
    "        max_len = len(value)\n",
    "\n",
    "for key,value in birdType.items():\n",
    "    if(len(value) >= max_len):\n",
    "        result.append(value[1])\n",
    "\n",
    "print(min(result))\n",
    "\n",
    "\n"
   ]
  }
 ],
 "metadata": {
  "kernelspec": {
   "display_name": "Python 3",
   "language": "python",
   "name": "python3"
  },
  "language_info": {
   "codemirror_mode": {
    "name": "ipython",
    "version": 3
   },
   "file_extension": ".py",
   "mimetype": "text/x-python",
   "name": "python",
   "nbconvert_exporter": "python",
   "pygments_lexer": "ipython3",
   "version": "3.11.0 (main, Oct 24 2022, 18:26:48) [MSC v.1933 64 bit (AMD64)]"
  },
  "orig_nbformat": 4,
  "vscode": {
   "interpreter": {
    "hash": "7d093f443aad8c0d3bee13d86753046d4508f29856a325e38a7e49c35975e629"
   }
  }
 },
 "nbformat": 4,
 "nbformat_minor": 2
}
