{
 "cells": [
  {
   "cell_type": "markdown",
   "metadata": {},
   "source": [
    "Latihan"
   ]
  },
  {
   "cell_type": "code",
   "execution_count": null,
   "metadata": {},
   "outputs": [],
   "source": [
    "import qrcode\n",
    "\n",
    "def generate_qrcode(url):\n",
    "    qr = qrcode.QRCode(\n",
    "        version=1,\n",
    "        error_correction=qrcode.constants.ERROR_CORRECT_L,\n",
    "        box_size=12,\n",
    "        border=4)\n",
    "\n",
    "    qr.add_data(url)\n",
    "    qr.make(fit=1)\n",
    "    img = qr.make_image(fill_color='black', back_color='white')\n",
    "    img.save('my-qr.png')\n",
    "\n",
    "\n",
    "generate_qrcode('https://www.instagram.com/rrzlmx/?hl=jpn')\n"
   ]
  },
  {
   "cell_type": "code",
   "execution_count": null,
   "metadata": {},
   "outputs": [],
   "source": [
    "import requests\n",
    "import urllib.request as urllib\n",
    "\n",
    "\n",
    "def main(url: str) -> None:\n",
    "    print(\"\"\"\n",
    "        checking url\n",
    "    \"\"\")\n",
    "    reponse = urllib.urlopen(url)\n",
    "    print(reponse.getcode())\n",
    "\n",
    "\n",
    "print('This a sote connectivity checher program')\n",
    "url = input('put u url here.?')\n",
    "\n",
    "main(url)\n"
   ]
  },
  {
   "cell_type": "code",
   "execution_count": 4,
   "metadata": {},
   "outputs": [
    {
     "name": "stdout",
     "output_type": "stream",
     "text": [
      "Dice rolled:⚁ and ⚃\n",
      "Dice rolled:⚅ and ⚄\n"
     ]
    }
   ],
   "source": [
    "# import random\n",
    "# define a function to roll the dice\n",
    "# create a dictionary that will have drawings of the dice\n",
    "# create a dictionary that will have the values of the dice\n",
    "\n",
    "import random\n",
    "\n",
    "dice = '⚀⚁⚂⚃⚄⚅'\n",
    "\n",
    "\n",
    "def role_dice():\n",
    "    roll = input('Roll the dice ya / tidak.? : ')\n",
    "    while roll in ['Yes', 'yes', 'ya', 'y', 'yep']:\n",
    "        dice_1 = random.randint(1, 6)\n",
    "        dice_2 = random.randint(1, 6)\n",
    "        print('Dice rolled:{} and {}'.format(dice[dice_1], dice[dice_2]))\n",
    "        roll = input('role again.? ')\n",
    "\n",
    "\n",
    "role_dice()\n"
   ]
  },
  {
   "cell_type": "markdown",
   "metadata": {},
   "source": [
    "automation"
   ]
  },
  {
   "cell_type": "code",
   "execution_count": null,
   "metadata": {},
   "outputs": [],
   "source": [
    "import camelot\n",
    "from matplotlib.table import table\n",
    "\n",
    "tables = camelot.read_pdf('foo.pdf',pages=1)\n",
    "\n",
    "table.export('foo.csv',f='csv',compress=True)\n",
    "table[0].to_csv('food.csv')"
   ]
  },
  {
   "cell_type": "code",
   "execution_count": null,
   "metadata": {},
   "outputs": [],
   "source": [
    "\"XPath Expression\"\n",
    "# //tagName\n",
    "# select h1 => //h1\n",
    "\"\"\"\n",
    "and or allowed\n",
    "//div[@class = \"btn\"] or div[@class = \"\"]\n",
    "\"\"\" \n",
    "# #\n",
    "# / => //artvile/p\n"
   ]
  },
  {
   "cell_type": "code",
   "execution_count": null,
   "metadata": {},
   "outputs": [],
   "source": [
    "from selenium import webdriver\n",
    "from selenium.webdriver.chrome.service import Service\n",
    "import pandas as pd\n",
    " from selenium.webdriver.chrome.options import Options # for changing behavior of selenium\n",
    "website = \"url\"\n",
    "path =\"Users/acer/Downloads/Compressed/chromedriver_win32\"\n",
    "\n",
    "service = Service(executable_path=path)\n",
    "driver = webdriver.Chrome(service=service)\n",
    "driver.get(website)\n",
    "\n",
    "# driver.find_ele ment(by=\"xpath\",value=\"//div[@class=\"\"]\") # select 1\n",
    "containers =  driver.find_elements(by=\"xpath\",value=\"//div[@class=\"\"]\") # select many\n",
    "titles = []\n",
    "subtitles = []\n",
    "links = []\n",
    "\n",
    "for container in containers:\n",
    "    title = container.find_element(by=\"xpath\",value=\"./a/h2\").text\n",
    "    subtitle = container.find_element(by=\"xpath\",value=\"./a/p\").text\n",
    "    link = container.find_element(by=\"xpath\",value=\"./a\").get_attribute(\"href\")\n",
    "\n",
    "    titles.append(title)\n",
    "    subtitles.append(subtitle)\n",
    "    links.append(link)\n",
    "\n",
    "my_dict = {\n",
    "    'title':titles,\n",
    "    'subtitle':subtitles,\n",
    "    'link':links\n",
    "}\n",
    "\n",
    "df_headlines = pd.DataFrame(my_dict)\n",
    "df_headlines.to_csv('football_headline.csv')\n",
    "\n",
    "driver.quit()\n",
    "\n",
    "\n"
   ]
  }
 ],
 "metadata": {
  "kernelspec": {
   "display_name": "Python 3",
   "language": "python",
   "name": "python3"
  },
  "language_info": {
   "codemirror_mode": {
    "name": "ipython",
    "version": 3
   },
   "file_extension": ".py",
   "mimetype": "text/x-python",
   "name": "python",
   "nbconvert_exporter": "python",
   "pygments_lexer": "ipython3",
   "version": "3.11.0"
  },
  "orig_nbformat": 4,
  "vscode": {
   "interpreter": {
    "hash": "7d093f443aad8c0d3bee13d86753046d4508f29856a325e38a7e49c35975e629"
   }
  }
 },
 "nbformat": 4,
 "nbformat_minor": 2
}
