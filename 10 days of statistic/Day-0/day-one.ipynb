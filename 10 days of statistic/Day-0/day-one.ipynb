{
 "cells": [
  {
   "cell_type": "code",
   "execution_count": 8,
   "metadata": {},
   "outputs": [
    {
     "name": "stdout",
     "output_type": "stream",
     "text": [
      "44627.5\n",
      "43900.6\n",
      "[4978]\n"
     ]
    },
    {
     "name": "stderr",
     "output_type": "stream",
     "text": [
      "C:\\Users\\acer\\AppData\\Local\\Temp\\ipykernel_11492\\886117049.py:12: FutureWarning: Unlike other reduction functions (e.g. `skew`, `kurtosis`), the default behavior of `mode` typically preserves the axis it acts along. In SciPy 1.11.0, this behavior will change: the default value of `keepdims` will become False, the `axis` over which the statistic is taken will be eliminated, and the value None will no longer be accepted. Set `keepdims` to True or False to avoid this warning.\n",
      "  print((stats.mode(data)[0]))\n"
     ]
    }
   ],
   "source": [
    "import numpy as np\n",
    "\n",
    "from scipy import stats\n",
    "\n",
    "data:list[int] =  [64630,11735,14216,99233,14470,4978,73429,38120,51135,67060]\n",
    "\n",
    "# size = int(input(''))\n",
    "# numbers = list(map(int, input().split()))\n",
    "\n",
    "print(np.median(data))\n",
    "print(np.mean(data))\n",
    "print((stats.mode(data)[0]))"
   ]
  },
  {
   "cell_type": "code",
   "execution_count": 2,
   "metadata": {},
   "outputs": [
    {
     "ename": "IndexError",
     "evalue": "list index out of range",
     "output_type": "error",
     "traceback": [
      "\u001b[1;31m---------------------------------------------------------------------------\u001b[0m",
      "\u001b[1;31mIndexError\u001b[0m                                Traceback (most recent call last)",
      "Cell \u001b[1;32mIn [2], line 9\u001b[0m\n\u001b[0;32m      6\u001b[0m sum_items \u001b[39m=\u001b[39m \u001b[39m0\u001b[39m \n\u001b[0;32m      8\u001b[0m \u001b[39mfor\u001b[39;00m i \u001b[39min\u001b[39;00m \u001b[39mrange\u001b[39m(size):\n\u001b[1;32m----> 9\u001b[0m     sum_items \u001b[39m=\u001b[39m sum_items \u001b[39m+\u001b[39m (numbers[i] \u001b[39m*\u001b[39m weighted[i])\n\u001b[0;32m     11\u001b[0m \u001b[39mprint\u001b[39m(\u001b[39mround\u001b[39m(sum_items\u001b[39m/\u001b[39m\u001b[39msum\u001b[39m(weighted),\u001b[39m1\u001b[39m))\n",
      "\u001b[1;31mIndexError\u001b[0m: list index out of range"
     ]
    }
   ],
   "source": [
    "size = int(input())\n",
    "\n",
    "numbers = list(map(int, input().split()))\n",
    "weighted = list(map(int, input().split()))\n",
    "\n",
    "sum_items = 0 \n",
    "\n",
    "for i in range(size):\n",
    "    sum_items = sum_items + (numbers[i] * weighted[i])\n",
    "\n",
    "print(round(sum_items/sum(weighted),1))"
   ]
  }
 ],
 "metadata": {
  "kernelspec": {
   "display_name": "Python 3",
   "language": "python",
   "name": "python3"
  },
  "language_info": {
   "codemirror_mode": {
    "name": "ipython",
    "version": 3
   },
   "file_extension": ".py",
   "mimetype": "text/x-python",
   "name": "python",
   "nbconvert_exporter": "python",
   "pygments_lexer": "ipython3",
   "version": "3.11.0"
  },
  "orig_nbformat": 4,
  "vscode": {
   "interpreter": {
    "hash": "7d093f443aad8c0d3bee13d86753046d4508f29856a325e38a7e49c35975e629"
   }
  }
 },
 "nbformat": 4,
 "nbformat_minor": 2
}
