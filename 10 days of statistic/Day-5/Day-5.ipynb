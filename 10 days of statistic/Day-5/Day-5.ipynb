{
 "cells": [
  {
   "cell_type": "markdown",
   "metadata": {},
   "source": [
    "Day 5: Poisson Distribution I | 10 Days Of Statistics | HackerRank Solution\n",
    "\n",
    "**Objective**\n",
    "In this challenge, we learn about Poisson distributions. \n",
    "\n",
    "## Task\n",
    "A random variable, X, follows Poisson distribution with mean of 2.5. Find the probability with which the random variable X is equal to 5.\n",
    "\n",
    "## Input Format\n",
    "The first line contains X‘s mean. The second line contains the value we want the probability for: \n",
    "2.5\n",
    "5"
   ]
  },
  {
   "cell_type": "code",
   "execution_count": 6,
   "metadata": {},
   "outputs": [
    {
     "name": "stdout",
     "output_type": "stream",
     "text": [
      "0.06731247667119018\n"
     ]
    }
   ],
   "source": [
    "\n",
    "def factorial(num:int)->int:\n",
    "    if num < 2: return 1\n",
    "    return num * factorial(num-1)\n",
    "\n",
    "prob = ((pow(2.5,5)) * (pow(2.71,(-2.5)))) / factorial(5)\n",
    "\n",
    "print(format(prob))\n"
   ]
  },
  {
   "cell_type": "markdown",
   "metadata": {},
   "source": []
  }
 ],
 "metadata": {
  "kernelspec": {
   "display_name": "Python 3",
   "language": "python",
   "name": "python3"
  },
  "language_info": {
   "codemirror_mode": {
    "name": "ipython",
    "version": 3
   },
   "file_extension": ".py",
   "mimetype": "text/x-python",
   "name": "python",
   "nbconvert_exporter": "python",
   "pygments_lexer": "ipython3",
   "version": "3.11.0 (main, Oct 24 2022, 18:26:48) [MSC v.1933 64 bit (AMD64)]"
  },
  "orig_nbformat": 4,
  "vscode": {
   "interpreter": {
    "hash": "8a5edab282632443219e051e4ade2d1d5bbc671c781051bf1437897cbdfea0f1"
   }
  }
 },
 "nbformat": 4,
 "nbformat_minor": 2
}
