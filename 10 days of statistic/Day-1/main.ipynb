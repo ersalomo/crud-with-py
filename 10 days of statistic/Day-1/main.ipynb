{
 "cells": [
  {
   "cell_type": "code",
   "execution_count": 2,
   "metadata": {},
   "outputs": [
    {
     "name": "stdout",
     "output_type": "stream",
     "text": [
      "14216\n",
      "44627\n",
      "67060\n"
     ]
    }
   ],
   "source": [
    "def median(size:int, values:list[int])->int:\n",
    "    index:int = int(size/2)\n",
    "    if size % 2 == 0:\n",
    "        median = (values[index-1] + values[index]) / 2\n",
    "    else: median = values[index]\n",
    "    return int(median)\n",
    "\n",
    "size = int(input())\n",
    "numbers = sorted(list(map(int, input().split())))\n",
    "index = int(size/2)\n",
    "if(size % 2 == 0):\n",
    "    data_low = numbers[0:index]\n",
    "    data_high = numbers[index:size]\n",
    "else:\n",
    "    data_low = numbers[0:index]\n",
    "    data_high = numbers[index+1:size]\n",
    "\n",
    "print(median(len(data_low),data_low))\n",
    "print(median(size,numbers))\n",
    "print(median(len(data_high),data_high))\n",
    "# 14216 44627 67060\n"
   ]
  },
  {
   "cell_type": "code",
   "execution_count": null,
   "metadata": {},
   "outputs": [],
   "source": [
    "# interquartil adalah perbedaan Q3 - Q1\n",
    "\n",
    "def median(size, values)->float:\n",
    "    idx = int(size/2)  # get panjang refers to values of list int\n",
    "    if(size % 2 == 0):\n",
    "        median = (values[idx-1] + values[idx])/2\n",
    "    else:\n",
    "        median = float(values[idx])\n",
    "    return median\n",
    "\n",
    "\n",
    "elements = list(map(int, input().split()))\n",
    "freqs = list(map(int, input().split()))\n",
    "\n",
    "new_data = [] # wadah untuk frequensi elements \n",
    "\n",
    "for i in range(len(elements)):\n",
    "    for j in range(freqs[i]):\n",
    "        new_data.append(elements[i])\n",
    "\n",
    "new_data = sorted(new_data)\n",
    "\n",
    "size = int(len(new_data))\n",
    "if size % 2 ==0:\n",
    "    data_low = new_data[0:int(size/2)]\n",
    "    data_high = new_data[int(size/2):size]\n",
    "else:\n",
    "    data_low = new_data[int(size/2)]\n",
    "    data_high = new_data[int(size/2)+1:size]\n",
    "\n",
    "low = median(len(data_low),data_low)\n",
    "high = median(len(data_high),data_high)\n",
    "\n",
    "print(high - low)\n"
   ]
  },
  {
   "cell_type": "markdown",
   "metadata": {},
   "source": [
    "Day 1: Standard Deviation | 10 Days Of Statistics | HakcerRank Solution\n",
    "arr = [2, 5, 2, 7, 4]\n",
    "The sum of the array values is 20 and there are 5 elements. The mean is 4.0.Subtract(dikurang) the mean from each element, square each result, and take their sum.\n",
    "Their sum is 18. Take the square root of 18/5 to get 1.7, the standard deviation."
   ]
  },
  {
   "cell_type": "code",
   "execution_count": 5,
   "metadata": {},
   "outputs": [
    {
     "name": "stdout",
     "output_type": "stream",
     "text": [
      "1.9\n"
     ]
    }
   ],
   "source": [
    "arr:list[int] = [2, 5, 2, 7, 4]\n",
    "def mean(arr): return sum(arr)/len(arr)\n",
    "from math import sqrt\n",
    "def stddev(data:list[int],size:int)->int:\n",
    "    sum = 0\n",
    "    for i in range(size):\n",
    "        sum = sum + (data[i]-mean(data)) ** 2\n",
    "    return sqrt(sum / size)\n",
    "# set data \n",
    "# size = int(input())\n",
    "# numbers = list(map(int, input().split()))\n",
    "numbers = arr\n",
    "print(round(stddev(numbers, len(numbers)),1))\n",
    " "
   ]
  }
 ],
 "metadata": {
  "kernelspec": {
   "display_name": "Python 3",
   "language": "python",
   "name": "python3"
  },
  "language_info": {
   "codemirror_mode": {
    "name": "ipython",
    "version": 3
   },
   "file_extension": ".py",
   "mimetype": "text/x-python",
   "name": "python",
   "nbconvert_exporter": "python",
   "pygments_lexer": "ipython3",
   "version": "3.11.0"
  },
  "orig_nbformat": 4,
  "vscode": {
   "interpreter": {
    "hash": "7d093f443aad8c0d3bee13d86753046d4508f29856a325e38a7e49c35975e629"
   }
  }
 },
 "nbformat": 4,
 "nbformat_minor": 2
}
