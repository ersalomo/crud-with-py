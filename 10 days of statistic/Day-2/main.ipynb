{
 "cells": [
  {
   "cell_type": "markdown",
   "metadata": {},
   "source": [
    "Solution – Basic Probability Solution"
   ]
  },
  {
   "cell_type": "code",
   "execution_count": null,
   "metadata": {},
   "outputs": [],
   "source": [
    "dadu_1 = [1,2,3,4,5,6]\n",
    "dadu_2 = [1,2,3,4,5,6]\n",
    "total = 36\n",
    "total_kemungkinan= 0\n",
    "\n",
    "# Verify possibilities\n",
    "for i in range(len(dice1)):\n",
    "    for j in range(len(dice2)):\n",
    "        if (dice1[j] + dice1[i]) <= 9:\n",
    "            total_possibilities = total_possibilities + 1\n",
    "            print(\"{0} + {1} = {2}\".format(dice1[i], dice2[j], (dice1[j] + dice1[i])))\n",
    "# Get probability\n",
    "probability = total_possibilities / total\n",
    "print(\"Probability: {0}/{1} = {2}\".format(total_possibilities,total,probability))\n",
    "\n"
   ]
  },
  {
   "cell_type": "markdown",
   "metadata": {},
   "source": [
    "Day 2: More Dice | 10 Days Of Statistics | HackerRank Solution\n",
    "\n",
    "In a single toss of 2 fair (evenly-weighted) six-sided dice, find the probability that the values rolled by each die will be different and the two dice have a sum of 6."
   ]
  },
  {
   "cell_type": "code",
   "execution_count": null,
   "metadata": {},
   "outputs": [],
   "source": [
    "dice1 = [1,2,3,4,5,6]\n",
    "dice2 = [1,2,3,4,5,6]\n",
    "total = len(dice1) * len(dice2)\n",
    "total_possibilities = 0\n",
    "# Verify possibilities\n",
    "for i in range(len(dice1)):\n",
    "    for j in range(len(dice2)):\n",
    "        if dice1[i] != dice1[j] and (dice1[i] + dice1[j]) == 6:\n",
    "            total_possibilities = total_possibilities + 1\n",
    "            print(\"{0} + {1} = {2}\".format(dice1[i], dice2[j], (dice1[j] + dice1[i])))\n",
    "# Get probability\n",
    "probability = total_possibilities / total\n",
    "print(\"Probability: {0}/{1} = {2}\".format(total_possibilities,total,probability))"
   ]
  },
  {
   "cell_type": "markdown",
   "metadata": {},
   "source": [
    "Day 2: Compound Event Probability | 10 Days Of Statistics | HackerRank Solution"
   ]
  },
  {
   "cell_type": "code",
   "execution_count": null,
   "metadata": {},
   "outputs": [],
   "source": [
    "\n",
    "# Set data\n",
    "x = {\"Red\":4/7, \"Black\":3/7}\n",
    "y = {\"Red\":5/9, \"Black\":4/9}\n",
    "z = {\"Red\":4/8, \"Black\":4/8}\n",
    "# Get possibilities\n",
    "first_possibility = x[\"Red\"] * y[\"Red\"] * z[\"Black\"]\n",
    "second_possibility = x[\"Red\"] * y[\"Black\"] * z[\"Red\"]\n",
    "third_possibility = x[\"Black\"] * y[\"Red\"] * z[\"Red\"]\n",
    "# Get probability\n",
    "print(first_possibility + second_possibility + third_possibility)"
   ]
  }
 ],
 "metadata": {
  "kernelspec": {
   "display_name": "Python 3",
   "language": "python",
   "name": "python3"
  },
  "language_info": {
   "name": "python",
   "version": "3.11.0 (main, Oct 24 2022, 18:26:48) [MSC v.1933 64 bit (AMD64)]"
  },
  "orig_nbformat": 4,
  "vscode": {
   "interpreter": {
    "hash": "7d093f443aad8c0d3bee13d86753046d4508f29856a325e38a7e49c35975e629"
   }
  }
 },
 "nbformat": 4,
 "nbformat_minor": 2
}
