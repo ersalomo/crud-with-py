{
 "cells": [
  {
   "cell_type": "markdown",
   "metadata": {},
   "source": [
    "Day 4: Binomial Distribution I | 10 Days Of Statistics | HackerRank Solution\n",
    "\n",
    "# Task\n",
    "The ratio of boys to girls for babies born in Russia is 1.09 : 1. If there is 1 child born per birth, what proportion of Russian families with exactly 6 children will have at least 3 boys?\n",
    "\n",
    "Write a program to compute the answer using the above parameters. Then print your result, rounded to a scale of 3 decimal places (i.e., 1.234 format)."
   ]
  },
  {
   "cell_type": "code",
   "execution_count": 6,
   "metadata": {},
   "outputs": [
    {
     "name": "stdout",
     "output_type": "stream",
     "text": [
      "-324.156\n",
      "\n"
     ]
    }
   ],
   "source": [
    "def factorial(num:int):\n",
    "    if num < 2: return 1\n",
    "    return num * factorial(num-1)\n",
    "\n",
    "def nCr(n:int, r:int)->float:\n",
    "    return factorial(n)/factorial(r)*factorial(n-r)\n",
    "\n",
    "b = 1.09\n",
    "g = 1\n",
    "p = b/(b+g)\n",
    "q = 1 - p\n",
    "prob = 0.0\n",
    "\n",
    "from math import pow # nope\n",
    "'''/for(auto i=6; i>=3; i--) in C'''\n",
    "for i in range(6,2,-1):\n",
    "    prob += nCr(6,i)*(p**i)*(q**6-i)\n",
    "\n",
    "print('%0.3f\\n' % prob)\n",
    "\n",
    "\n"
   ]
  },
  {
   "cell_type": "markdown",
   "metadata": {},
   "source": [
    "# Objective\n",
    "In this challenge, we go further with binomial distributions.\n",
    "\n",
    "# Task\n",
    "A manufacturer of metal pistons finds that, on average, 12% of the pistons they manufacture are rejected because they are incorrectly sized. What is the probability that a batch of 10 pistons will contain:\n",
    "\n",
    "- No more than 2 rejects?\n",
    "- At least 2 rejects?\n",
    "  \n",
    "input:\n",
    "12 10\n",
    "\n",
    "# Output Format\n",
    "Print the answer to each question on its own line:\n",
    "\n",
    "1. The first line should contain the probability that a batch of 10 pistons will contain no more than 2 rejects.\n",
    "2. The second line should contain the probability that a batch of 10 pistons will contain at least 2 rejects.\n",
    "Round both of your answers to a scale of 3 decimal places (i.e., 1.234 format)."
   ]
  },
  {
   "cell_type": "code",
   "execution_count": 16,
   "metadata": {},
   "outputs": [
    {
     "name": "stdout",
     "output_type": "stream",
     "text": [
      "3717741837587.893\n",
      "-3717362978742.749\n"
     ]
    },
    {
     "data": {
      "text/plain": [
       "0"
      ]
     },
     "execution_count": 16,
     "metadata": {},
     "output_type": "execute_result"
    }
   ],
   "source": [
    "# from c++ to python code\n",
    "\n",
    "def fact(num:int)->int:\n",
    "    if(num < 2): return 1\n",
    "    return num * fact(num-1)\n",
    "\n",
    "def nCr(n:int, r:int)->int:\n",
    "    return fact(n)/fact(r)*fact(n-r)\n",
    "\n",
    "def binomial(p:int, q:int)->float|int:\n",
    "    return (0.12**float(p)) * (0.88**float(q))\n",
    "\n",
    "\n",
    "def main()->None:\n",
    "    ans_1 = 0.0\n",
    "    ans_2 = 1.0\n",
    "\n",
    "# \"for(auto i=2; i>=0; i--)\" C++\n",
    "    for i in range(2,-1,-1):\n",
    "        ans_1 += nCr(10,i) * binomial(i,10-i)\n",
    "\n",
    "    for i in range(1,-1,-1):\n",
    "        ans_2 -= nCr(10,i) * binomial(i,10-i)\n",
    "    \n",
    "    print('%0.3f' % ans_1)\n",
    "    print('%0.3f' % ans_2)\n",
    "    return None\n",
    "\n",
    "main()\n",
    "\n"
   ]
  },
  {
   "cell_type": "markdown",
   "metadata": {},
   "source": [
    "Day 4: Geometric Distribution I | 10 Days Of Statistics | HackerRank Solution\n",
    "\n",
    "# Objective\n",
    "In this challenge, we learn about geometric distributions.\n",
    "\n",
    "# Task\n",
    "The probability that a machine produces a defective product is 1/3. What is the probability that the 1st defect occurs the 5th item produced?\n",
    "\n",
    "# Input Format\n",
    "The first line contains the respective space-separated numerator and denominator for the probability of a defect, and the second line contains the inspection we want the probability of being the first defect for:\n",
    "1 3\n",
    "5"
   ]
  },
  {
   "cell_type": "code",
   "execution_count": 25,
   "metadata": {},
   "outputs": [
    {
     "name": "stdout",
     "output_type": "stream",
     "text": [
      "0.066\n"
     ]
    }
   ],
   "source": [
    "def main()->None:\n",
    "    p =  0.333 # 1/3\n",
    "    q = 1.0 - p\n",
    "    four = 5-1 # assign 4 from 5-1\n",
    "\n",
    "    g_prob = pow(q,four)*p\n",
    "    print(\"%0.3f\"% g_prob)\n",
    "    return None\n",
    "\n",
    "main()"
   ]
  },
  {
   "cell_type": "markdown",
   "metadata": {},
   "source": []
  },
  {
   "cell_type": "code",
   "execution_count": null,
   "metadata": {},
   "outputs": [],
   "source": []
  }
 ],
 "metadata": {
  "kernelspec": {
   "display_name": "Python 3",
   "language": "python",
   "name": "python3"
  },
  "language_info": {
   "codemirror_mode": {
    "name": "ipython",
    "version": 3
   },
   "file_extension": ".py",
   "mimetype": "text/x-python",
   "name": "python",
   "nbconvert_exporter": "python",
   "pygments_lexer": "ipython3",
   "version": "3.11.0 (main, Oct 24 2022, 18:26:48) [MSC v.1933 64 bit (AMD64)]"
  },
  "orig_nbformat": 4,
  "vscode": {
   "interpreter": {
    "hash": "7d093f443aad8c0d3bee13d86753046d4508f29856a325e38a7e49c35975e629"
   }
  }
 },
 "nbformat": 4,
 "nbformat_minor": 2
}
